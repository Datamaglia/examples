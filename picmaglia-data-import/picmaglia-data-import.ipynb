{
 "metadata": {
  "name": "",
  "signature": "sha256:019ef69ccd615bfac360f975a573e27e47d701d070a7d34a56a734f72a061b56"
 },
 "nbformat": 3,
 "nbformat_minor": 0,
 "worksheets": []
}