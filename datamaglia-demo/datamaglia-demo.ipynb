{
 "metadata": {
  "name": "",
  "signature": "sha256:919ac606285e5caaa3a81f41a5f714fe2444a7e2eee16a2397043148ded7b76f"
 },
 "nbformat": 3,
 "nbformat_minor": 0,
 "worksheets": [
  {
   "cells": [
    {
     "cell_type": "markdown",
     "metadata": {},
     "source": [
      "# Datamaglia Demo\n",
      "\n",
      "Below we will briefly introduce the Datamaglia API and demonstrate how it can be used to generate recommendations. We will use Python because it is readable, and widely-known, you can use any language that can make HTTP requests.\n",
      "\n",
      "You'll need to install the Requests library to use this notebook, which you can do with a quick `pip install requests`."
     ]
    },
    {
     "cell_type": "code",
     "collapsed": false,
     "input": [
      "import requests\n",
      "import json"
     ],
     "language": "python",
     "metadata": {},
     "outputs": [],
     "prompt_number": 2
    },
    {
     "cell_type": "markdown",
     "metadata": {},
     "source": [
      "In order to use the API, we need to first create an application, a subgraph (to describe the data model), and an API token (to allow us access). We've created these already for you to use with this notebook, but if you want to create your own you'll need to sign up for a Datamaglia account.\n",
      "\n",
      "Below you can see an exmple of how to create a subgraph. The subgraph tells us what your data look like. Each subgraph has three components: a source, a target, and a relationship. These are explained briefly below.\n",
      "\n",
      "![Create subgraph](img/create-subgraph.png)\n",
      "\n",
      "A source is the entity (almost always a person) for which you want to generate recommendations. This is probably a user of your product or service, but it might be someone else. The source usually takes some kind of action while using your application that informs us about his or her preferences. This could be \"starring\" a piece of content, making a social connection with another person, or even just visiting a web page.\n",
      "\n",
      "A relationship is the how we track these user preferences. For example, if your application allows users to \"star\" pieces of content, we might use the \"liked\" or \"followed\" relationships because the action taken by the user indicates to us that he or she likes that content or wants to be updated about it in the future.\n",
      "\n",
      "The target is what the source can express preferences about. In the example above, this would be the content that can be \"starred\".\n",
      "\n",
      "The source and target each have a PID. This just tells us how you plan to identify these pieces of the subgraph. For instance, you might identify users by an email address, or a Twitter handle, or you might identify a piece of content using its URL. In this example, we're using the URL for both since Reddit users each have a profile page.\n",
      "\n",
      "Now that we have a subgraph created, we need an API key (called an Application Token). This allows our application to access the Datamaglia service. You can create read (generate recommendations), write (insert data from which recommendations can be generated), or read/write (both) tokens. This lets you customize the level of access that a particular piece of the application should have. For example, your backend server might need read/write, but your frontend mobile application might only need read permission.\n",
      "\n",
      "![Finished](img/finished.png)\n",
      "\n",
      "There are two important values that come from this process. First, you'll need the subgraph ID in order to make requests to the Datamaglia API. This tells us which subgraph to insert data into and which subgraph we should use for generating a recommendation. Second, you'll need a token that has appropriate access.\n",
      "\n",
      "Note that the subgraph ID and token values above are different than the ones used here, that isn't a problem, we re-created the application since the screenshots were taken."
     ]
    },
    {
     "cell_type": "code",
     "collapsed": false,
     "input": [
      "SUBGRAPH_ID  = '42464879f61b4ce7baee411eae57baed'\n",
      "API_KEY = 'a840c726507e4bc6810976320abcf583'"
     ],
     "language": "python",
     "metadata": {},
     "outputs": [],
     "prompt_number": 3
    },
    {
     "cell_type": "markdown",
     "metadata": {},
     "source": [
      "For convenience, we'll define some values to use later. These are just for convenience."
     ]
    },
    {
     "cell_type": "code",
     "collapsed": false,
     "input": [
      "BASE_URL = 'https://api.datamaglia.com/v1{}'\n",
      "SRC_URL = BASE_URL.format('/subgraphs/' + SUBGRAPH_ID + '/data/sources/')\n",
      "TARG_URL = BASE_URL.format('/subgraphs/' + SUBGRAPH_ID + '/data/targets/')\n",
      "REL_URL = BASE_URL.format('/subgraphs/' + SUBGRAPH_ID + '/data/relationships/')\n",
      "REC_URL = BASE_URL.format('/recommendations/subgraphs/' + SUBGRAPH_ID + '/member')\n",
      "HEADERS = {'Auth-Token': API_KEY, 'Content-Type': 'application/json'}"
     ],
     "language": "python",
     "metadata": {},
     "outputs": [],
     "prompt_number": 4
    },
    {
     "cell_type": "markdown",
     "metadata": {},
     "source": [
      "First, let's create some (fake) Reddit users. We've selected random names, any resemblence to actual users is purely coincidental."
     ]
    },
    {
     "cell_type": "code",
     "collapsed": false,
     "input": [
      "names = ['miguel', 'adam', 'julie', 'steve', 'caroline', 'ingrid']\n",
      "entities = [\n",
      "    {\n",
      "        'id': 'https://www.reddit.com/u/{}'.format(name),\n",
      "        'properties': [\n",
      "            {'key': 'name', 'value': name}\n",
      "        ]\n",
      "    } for name in names\n",
      "]\n",
      "payload = {'entities': entities}\n",
      "resp = requests.post(SRC_URL, headers=HEADERS, data=json.dumps(payload))\n",
      "print resp # Should be 204"
     ],
     "language": "python",
     "metadata": {},
     "outputs": [
      {
       "output_type": "stream",
       "stream": "stdout",
       "text": [
        "<Response [204]>\n"
       ]
      }
     ],
     "prompt_number": 5
    },
    {
     "cell_type": "markdown",
     "metadata": {},
     "source": [
      "Now we have inserted some users. Note that we were able to insert several at once, this makes things a little quicker and more flexible, but we could have inserted them one at a time too. A 204 response means everything worked, so now let's add some subreddits that these users might follow."
     ]
    },
    {
     "cell_type": "code",
     "collapsed": false,
     "input": [
      "# Now, let's add some (real) subreddits.\n",
      "subreddits = ['programming', 'askreddit', 'askscience', 'books', 'dataisbeautiful']\n",
      "entities = [\n",
      "    {\n",
      "        'id': 'https://www.reddit.com/r/{}'.format(subreddit)\n",
      "    } for subreddit in subreddits\n",
      "]\n",
      "payload = {'entities': entities}\n",
      "resp = requests.post(TARG_URL, headers=HEADERS, data=json.dumps(payload))\n",
      "print resp # Should be 204"
     ],
     "language": "python",
     "metadata": {},
     "outputs": [
      {
       "output_type": "stream",
       "stream": "stdout",
       "text": [
        "<Response [204]>\n"
       ]
      }
     ],
     "prompt_number": 6
    },
    {
     "cell_type": "markdown",
     "metadata": {},
     "source": [
      "Great! Now we have some users, and some subreddits, so it is time to link them together with relationships. Notice that we didn't have to add any relationships. This is by design. There might very well be content or people in your application that haven't been \"liked\" or \"followed\" or \"purchased\" by anyone... yet. But once one of those things happens, we want to be ready."
     ]
    },
    {
     "cell_type": "code",
     "collapsed": false,
     "input": [
      "# Now let's make some of our users follow some subreddits. This is what will allow us to generate recommendations later.\n",
      "follows = [\n",
      "    ('miguel', 'programming'),\n",
      "    ('miguel', 'askscience'),\n",
      "    ('miguel', 'books'),\n",
      "    ('adam', 'programming'),\n",
      "    ('adam', 'dataisbeautiful'),\n",
      "    ('adam', 'books'),\n",
      "    ('julie', 'books'),\n",
      "    ('julie', 'askscience'),\n",
      "    ('steve', 'askscience'),\n",
      "    ('steve', 'askreddit'),\n",
      "    ('caroline', 'books'),\n",
      "    ('caroline', 'askreddit'),\n",
      "    ('ingrid', 'programming'),\n",
      "    ('ingrid', 'dataisbeautiful'),\n",
      "]\n",
      "entities = [\n",
      "    {\n",
      "        'weight': 0,\n",
      "        'source': 'https://www.reddit.com/u/{}'.format(name),\n",
      "        'target': 'https://www.reddit.com/r/{}'.format(subreddit)\n",
      "    } for (name, subreddit) in follows\n",
      "]\n",
      "payload = {'entities': entities}\n",
      "resp = requests.post(REL_URL, headers=HEADERS, data=json.dumps(payload))\n",
      "print resp # Should be 204"
     ],
     "language": "python",
     "metadata": {},
     "outputs": [
      {
       "output_type": "stream",
       "stream": "stdout",
       "text": [
        "<Response [204]>\n"
       ]
      }
     ],
     "prompt_number": 7
    },
    {
     "cell_type": "markdown",
     "metadata": {},
     "source": [
      "Look at all our happy Redditors! Now let's find out which other subreddits some of our users would enjoy following!"
     ]
    },
    {
     "cell_type": "code",
     "collapsed": false,
     "input": [
      "# Now let's see which subreddits might interest Steve.\n",
      "r = requests.get(REC_URL, params={'id': 'https://www.reddit.com/u/steve', 'limit': 3}, headers={'Auth-Token': API_KEY})\n",
      "print json.dumps(json.loads(r.text), indent=4)"
     ],
     "language": "python",
     "metadata": {},
     "outputs": [
      {
       "output_type": "stream",
       "stream": "stdout",
       "text": [
        "{\n",
        "    \"entities\": []\n",
        "}\n"
       ]
      }
     ],
     "prompt_number": 9
    },
    {
     "cell_type": "code",
     "collapsed": false,
     "input": [
      "# Or Ingrid. Note that we recommend Ingrid check out r/books because of her similiarity with Adam,\n",
      "# the two of them are very similar, so this makes sense.\n",
      "r = requests.get(REC_URL, params={'id': 'https://www.reddit.com/u/ingrid', 'limit': 3}, headers={'Auth-Token': API_KEY})\n",
      "print json.dumps(json.loads(r.text), indent=4)"
     ],
     "language": "python",
     "metadata": {},
     "outputs": [
      {
       "output_type": "stream",
       "stream": "stdout",
       "text": [
        "{\n",
        "    \"entities\": [\n",
        "        {\n",
        "            \"score\": 0.9166666666666666, \n",
        "            \"relationship\": {\n",
        "                \"source\": {\n",
        "                    \"id\": {\n",
        "                        \"key\": \"url\", \n",
        "                        \"value\": \"https://www.reddit.com/u/ingrid\"\n",
        "                    }, \n",
        "                    \"properties\": [\n",
        "                        {\n",
        "                            \"key\": \"name\", \n",
        "                            \"value\": \"ingrid\"\n",
        "                        }\n",
        "                    ]\n",
        "                }, \n",
        "                \"type\": \"follows\", \n",
        "                \"target\": {\n",
        "                    \"id\": {\n",
        "                        \"key\": \"url\", \n",
        "                        \"value\": \"https://www.reddit.com/r/books\"\n",
        "                    }, \n",
        "                    \"properties\": []\n",
        "                }, \n",
        "                \"weight\": 0.0\n",
        "            }\n",
        "        }, \n",
        "        {\n",
        "            \"score\": 0.25, \n",
        "            \"relationship\": {\n",
        "                \"source\": {\n",
        "                    \"id\": {\n",
        "                        \"key\": \"url\", \n",
        "                        \"value\": \"https://www.reddit.com/u/ingrid\"\n",
        "                    }, \n",
        "                    \"properties\": [\n",
        "                        {\n",
        "                            \"key\": \"name\", \n",
        "                            \"value\": \"ingrid\"\n",
        "                        }\n",
        "                    ]\n",
        "                }, \n",
        "                \"type\": \"follows\", \n",
        "                \"target\": {\n",
        "                    \"id\": {\n",
        "                        \"key\": \"url\", \n",
        "                        \"value\": \"https://www.reddit.com/r/askscience\"\n",
        "                    }, \n",
        "                    \"properties\": []\n",
        "                }, \n",
        "                \"weight\": 0.0\n",
        "            }\n",
        "        }\n",
        "    ]\n",
        "}\n"
       ]
      }
     ],
     "prompt_number": 16
    },
    {
     "cell_type": "markdown",
     "metadata": {},
     "source": [
      "A couple notes about the results here are in order. First, the \"score\" reflects the strength of the recommendation. Higher values mean more relevant matches. We're still fiddling with how we compute the score, so stay tuned, but the overall idea won't change. Next, we return all three parts of the subgraph for each recommendation. This is because you, as the developer, might want to use the information in your UI.\n",
      "\n",
      "Thanks for reading through this demo and tutorial! We hope to improve it as we continue to build out the Datamaglia service. If you have questions (or, even better, suggestions) you can send us an email at support@datamaglia.com."
     ]
    },
    {
     "cell_type": "code",
     "collapsed": false,
     "input": [],
     "language": "python",
     "metadata": {},
     "outputs": []
    }
   ],
   "metadata": {}
  }
 ]
}