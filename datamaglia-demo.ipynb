{
 "metadata": {
  "name": "",
  "signature": "sha256:4111e0a6ca2c03289b8cbdf1c323dbc6fc6cd511efca40762159f6f6ccb53945"
 },
 "nbformat": 3,
 "nbformat_minor": 0,
 "worksheets": [
  {
   "cells": [
    {
     "cell_type": "markdown",
     "metadata": {},
     "source": [
      "# Datamaglia Demo\n",
      "\n",
      "Below we will briefly introduce the Datamaglia API and demonstrate how it can be used to generate recommendations. We will use Python because it is readable, and widely-known, you can use any language that can make HTTP requests.\n",
      "\n",
      "You'll need to install the Requests library to use this notebook, which you can do with a quick `pip install requests`."
     ]
    },
    {
     "cell_type": "code",
     "collapsed": false,
     "input": [
      "import requests\n",
      "import json"
     ],
     "language": "python",
     "metadata": {},
     "outputs": [],
     "prompt_number": 80
    },
    {
     "cell_type": "markdown",
     "metadata": {},
     "source": [
      "In order to use the API, we need to first create an application, a subgraph (to describe the data model), and an API token (to allow us access). We've created these already for you to use with this notebook, but if you want to create your own you'll need to sign up for a Datamaglia account."
     ]
    },
    {
     "cell_type": "code",
     "collapsed": false,
     "input": [
      "SUBGRAPH_ID  = '11bd8059d6d94011bcf3e7047546edf0'\n",
      "API_KEY = '1972bfd93845456fa89102e1643cab63'"
     ],
     "language": "python",
     "metadata": {},
     "outputs": [],
     "prompt_number": 88
    },
    {
     "cell_type": "markdown",
     "metadata": {},
     "source": [
      "For convenience, we'll define some values to use later. These are just for convenience."
     ]
    },
    {
     "cell_type": "code",
     "collapsed": false,
     "input": [
      "BASE_URL = 'https://api.datamaglia.com/v1{}'\n",
      "SRC_URL = BASE_URL.format('/subgraphs/' + SUBGRAPH_ID + '/data/sources/')\n",
      "TARG_URL = BASE_URL.format('/subgraphs/' + SUBGRAPH_ID + '/data/targets/')\n",
      "REL_URL = BASE_URL.format('/subgraphs/' + SUBGRAPH_ID + '/data/relationships/')\n",
      "REC_URL = BASE_URL.format('/recommendations/subgraphs/' + SUBGRAPH_ID + '/member')\n",
      "HEADERS = {'Auth-Token': API_KEY, 'Content-Type': 'application/json'}"
     ],
     "language": "python",
     "metadata": {},
     "outputs": [],
     "prompt_number": 89
    },
    {
     "cell_type": "markdown",
     "metadata": {},
     "source": [
      "First, let's create some (fake) Reddit users. We've selected random names, any resemblence to actual users is purely coincidental. We'll add these users one at a time, but we could also add several at once by adding entities to our payload."
     ]
    },
    {
     "cell_type": "code",
     "collapsed": false,
     "input": [
      "def add_user(name):\n",
      "    payload = {\n",
      "        'entities': [\n",
      "            {\n",
      "            'id': 'https://www.reddit.com/u/{}'.format(name),\n",
      "            'properties': [\n",
      "                {'key': 'name', 'value': name}\n",
      "            ]\n",
      "        }]\n",
      "    }\n",
      "    return requests.post(SRC_URL, headers=HEADERS, data=json.dumps(payload))\n",
      "\n",
      "for name in ['miguel', 'adam', 'julie', 'steve', 'caroline', 'ingrid']:\n",
      "    print add_user(name)"
     ],
     "language": "python",
     "metadata": {},
     "outputs": [
      {
       "output_type": "stream",
       "stream": "stdout",
       "text": [
        "<Response [204]>\n",
        "<Response [204]>"
       ]
      },
      {
       "output_type": "stream",
       "stream": "stdout",
       "text": [
        "\n",
        "<Response [204]>"
       ]
      },
      {
       "output_type": "stream",
       "stream": "stdout",
       "text": [
        "\n",
        "<Response [204]>"
       ]
      },
      {
       "output_type": "stream",
       "stream": "stdout",
       "text": [
        "\n",
        "<Response [204]>"
       ]
      },
      {
       "output_type": "stream",
       "stream": "stdout",
       "text": [
        "\n",
        "<Response [204]>"
       ]
      },
      {
       "output_type": "stream",
       "stream": "stdout",
       "text": [
        "\n"
       ]
      }
     ],
     "prompt_number": 83
    },
    {
     "cell_type": "code",
     "collapsed": false,
     "input": [
      "# Now, let's add some (real) subreddits.\n",
      "def add_subreddit(name):\n",
      "    payload = {\n",
      "        'entities': [\n",
      "            {\n",
      "            'id': 'https://www.reddit.com/r/{}'.format(name)\n",
      "        }]\n",
      "    }\n",
      "    return requests.post(TARG_URL, headers=HEADERS, data=json.dumps(payload))\n",
      "\n",
      "for name in ['programming', 'askreddit', 'askscience', 'books', 'dataisbeautiful']:\n",
      "    print add_subreddit(name)"
     ],
     "language": "python",
     "metadata": {},
     "outputs": [
      {
       "output_type": "stream",
       "stream": "stdout",
       "text": [
        "<Response [204]>\n",
        "<Response [204]>"
       ]
      },
      {
       "output_type": "stream",
       "stream": "stdout",
       "text": [
        "\n",
        "<Response [204]>"
       ]
      },
      {
       "output_type": "stream",
       "stream": "stdout",
       "text": [
        "\n",
        "<Response [204]>"
       ]
      },
      {
       "output_type": "stream",
       "stream": "stdout",
       "text": [
        "\n",
        "<Response [204]>"
       ]
      },
      {
       "output_type": "stream",
       "stream": "stdout",
       "text": [
        "\n"
       ]
      }
     ],
     "prompt_number": 84
    },
    {
     "cell_type": "code",
     "collapsed": false,
     "input": [
      "# Now let's make some of our users follow some subreddits. This is what will allow us to generate recommendations later.\n",
      "def add_follow(person, subreddit):\n",
      "    payload = {\n",
      "        'entities': [\n",
      "            {\n",
      "            'weight': 0,\n",
      "            'source': 'https://www.reddit.com/u/{}'.format(person),\n",
      "            'target': 'https://www.reddit.com/r/{}'.format(subreddit)\n",
      "        }]\n",
      "    }\n",
      "    print requests.post(REL_URL, headers=HEADERS, data=json.dumps(payload))\n",
      "\n",
      "add_follow('miguel', 'programming')\n",
      "add_follow('miguel', 'askscience')\n",
      "add_follow('miguel', 'books')\n",
      "add_follow('adam', 'programming')\n",
      "add_follow('adam', 'dataisbeautiful')\n",
      "add_follow('adam', 'books')\n",
      "add_follow('julie', 'books')\n",
      "add_follow('julia', 'askscience')\n",
      "add_follow('steve', 'askscience')\n",
      "add_follow('steve', 'askreddit')\n",
      "add_follow('caroline', 'books')\n",
      "add_follow('caroline', 'askreddit')\n",
      "add_follow('ingrid', 'programming')\n",
      "add_follow('ingrid', 'dataisbeautiful')"
     ],
     "language": "python",
     "metadata": {},
     "outputs": [
      {
       "output_type": "stream",
       "stream": "stdout",
       "text": [
        "<Response [204]>\n",
        "<Response [204]>"
       ]
      },
      {
       "output_type": "stream",
       "stream": "stdout",
       "text": [
        "\n",
        "<Response [204]>"
       ]
      },
      {
       "output_type": "stream",
       "stream": "stdout",
       "text": [
        "\n",
        "<Response [204]>"
       ]
      },
      {
       "output_type": "stream",
       "stream": "stdout",
       "text": [
        "\n",
        "<Response [204]>"
       ]
      },
      {
       "output_type": "stream",
       "stream": "stdout",
       "text": [
        "\n",
        "<Response [204]>"
       ]
      },
      {
       "output_type": "stream",
       "stream": "stdout",
       "text": [
        "\n",
        "<Response [204]>"
       ]
      },
      {
       "output_type": "stream",
       "stream": "stdout",
       "text": [
        "\n",
        "<Response [204]>"
       ]
      },
      {
       "output_type": "stream",
       "stream": "stdout",
       "text": [
        "\n",
        "<Response [204]>"
       ]
      },
      {
       "output_type": "stream",
       "stream": "stdout",
       "text": [
        "\n",
        "<Response [204]>"
       ]
      },
      {
       "output_type": "stream",
       "stream": "stdout",
       "text": [
        "\n",
        "<Response [204]>"
       ]
      },
      {
       "output_type": "stream",
       "stream": "stdout",
       "text": [
        "\n",
        "<Response [204]>"
       ]
      },
      {
       "output_type": "stream",
       "stream": "stdout",
       "text": [
        "\n",
        "<Response [204]>"
       ]
      },
      {
       "output_type": "stream",
       "stream": "stdout",
       "text": [
        "\n",
        "<Response [204]>"
       ]
      },
      {
       "output_type": "stream",
       "stream": "stdout",
       "text": [
        "\n"
       ]
      }
     ],
     "prompt_number": 85
    },
    {
     "cell_type": "code",
     "collapsed": false,
     "input": [
      "# Now let's see which subreddits might interest Steve.\n",
      "r = requests.get(REC_URL, params={'id': 'https://www.reddit.com/u/steve', 'limit': 3}, headers={'Auth-Token': API_KEY})\n",
      "print json.dumps(json.loads(r.text), indent=4)"
     ],
     "language": "python",
     "metadata": {},
     "outputs": [
      {
       "output_type": "stream",
       "stream": "stdout",
       "text": [
        "{\n",
        "    \"entities\": [\n",
        "        {\n",
        "            \"score\": 0.5833333333333333, \n",
        "            \"relationship\": {\n",
        "                \"source\": {\n",
        "                    \"id\": {\n",
        "                        \"key\": \"url\", \n",
        "                        \"value\": \"https://www.reddit.com/u/steve\"\n",
        "                    }, \n",
        "                    \"properties\": [\n",
        "                        {\n",
        "                            \"key\": \"name\", \n",
        "                            \"value\": \"steve\"\n",
        "                        }\n",
        "                    ]\n",
        "                }, \n",
        "                \"type\": \"follows\", \n",
        "                \"target\": {\n",
        "                    \"id\": {\n",
        "                        \"key\": \"url\", \n",
        "                        \"value\": \"https://www.reddit.com/r/books\"\n",
        "                    }, \n",
        "                    \"properties\": []\n",
        "                }, \n",
        "                \"weight\": 0.0\n",
        "            }\n",
        "        }, \n",
        "        {\n",
        "            \"score\": 0.25, \n",
        "            \"relationship\": {\n",
        "                \"source\": {\n",
        "                    \"id\": {\n",
        "                        \"key\": \"url\", \n",
        "                        \"value\": \"https://www.reddit.com/u/steve\"\n",
        "                    }, \n",
        "                    \"properties\": [\n",
        "                        {\n",
        "                            \"key\": \"name\", \n",
        "                            \"value\": \"steve\"\n",
        "                        }\n",
        "                    ]\n",
        "                }, \n",
        "                \"type\": \"follows\", \n",
        "                \"target\": {\n",
        "                    \"id\": {\n",
        "                        \"key\": \"url\", \n",
        "                        \"value\": \"https://www.reddit.com/r/programming\"\n",
        "                    }, \n",
        "                    \"properties\": []\n",
        "                }, \n",
        "                \"weight\": 0.0\n",
        "            }\n",
        "        }\n",
        "    ]\n",
        "}\n"
       ]
      }
     ],
     "prompt_number": 86
    },
    {
     "cell_type": "code",
     "collapsed": false,
     "input": [
      "# Or Ingrid. Note that we recommend Ingrid check out r/books because of her similiarity with Adam,\n",
      "# the two of them are very similar, so this makes sense.\n",
      "r = requests.get(REC_URL, params={'id': 'https://www.reddit.com/u/ingrid', 'limit': 3}, headers={'Auth-Token': API_KEY})\n",
      "print json.dumps(json.loads(r.text), indent=4)"
     ],
     "language": "python",
     "metadata": {},
     "outputs": [
      {
       "output_type": "stream",
       "stream": "stdout",
       "text": [
        "{\n",
        "    \"entities\": [\n",
        "        {\n",
        "            \"score\": 0.9166666666666666, \n",
        "            \"relationship\": {\n",
        "                \"source\": {\n",
        "                    \"id\": {\n",
        "                        \"key\": \"url\", \n",
        "                        \"value\": \"https://www.reddit.com/u/ingrid\"\n",
        "                    }, \n",
        "                    \"properties\": [\n",
        "                        {\n",
        "                            \"key\": \"name\", \n",
        "                            \"value\": \"ingrid\"\n",
        "                        }\n",
        "                    ]\n",
        "                }, \n",
        "                \"type\": \"follows\", \n",
        "                \"target\": {\n",
        "                    \"id\": {\n",
        "                        \"key\": \"url\", \n",
        "                        \"value\": \"https://www.reddit.com/r/books\"\n",
        "                    }, \n",
        "                    \"properties\": []\n",
        "                }, \n",
        "                \"weight\": 0.0\n",
        "            }\n",
        "        }, \n",
        "        {\n",
        "            \"score\": 0.25, \n",
        "            \"relationship\": {\n",
        "                \"source\": {\n",
        "                    \"id\": {\n",
        "                        \"key\": \"url\", \n",
        "                        \"value\": \"https://www.reddit.com/u/ingrid\"\n",
        "                    }, \n",
        "                    \"properties\": [\n",
        "                        {\n",
        "                            \"key\": \"name\", \n",
        "                            \"value\": \"ingrid\"\n",
        "                        }\n",
        "                    ]\n",
        "                }, \n",
        "                \"type\": \"follows\", \n",
        "                \"target\": {\n",
        "                    \"id\": {\n",
        "                        \"key\": \"url\", \n",
        "                        \"value\": \"https://www.reddit.com/r/askscience\"\n",
        "                    }, \n",
        "                    \"properties\": []\n",
        "                }, \n",
        "                \"weight\": 0.0\n",
        "            }\n",
        "        }\n",
        "    ]\n",
        "}\n"
       ]
      }
     ],
     "prompt_number": 87
    },
    {
     "cell_type": "code",
     "collapsed": false,
     "input": [],
     "language": "python",
     "metadata": {},
     "outputs": []
    }
   ],
   "metadata": {}
  }
 ]
}